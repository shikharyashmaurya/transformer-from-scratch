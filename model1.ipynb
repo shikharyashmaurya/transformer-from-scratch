{
 "cells": [
  {
   "cell_type": "code",
   "execution_count": 1,
   "metadata": {},
   "outputs": [],
   "source": [
    "import torch"
   ]
  },
  {
   "cell_type": "code",
   "execution_count": 2,
   "metadata": {},
   "outputs": [],
   "source": [
    "import torch.nn as nn"
   ]
  },
  {
   "cell_type": "code",
   "execution_count": 3,
   "metadata": {},
   "outputs": [],
   "source": [
    "import math"
   ]
  },
  {
   "cell_type": "code",
   "execution_count": 71,
   "metadata": {},
   "outputs": [],
   "source": [
    "class InputEmbeddings(nn.Module):\n",
    "\n",
    "    def __init__(self, d_model, vocab_size):\n",
    "        super().__init__()\n",
    "        self.d_model = d_model\n",
    "        self.vocab_size = vocab_size\n",
    "        self.embedding = nn.Embedding(vocab_size, d_model)\n",
    "\n",
    "    def forward(self, x):\n",
    "        return self.embedding(x) * math.sqrt(self.d_model)"
   ]
  },
  {
   "cell_type": "code",
   "execution_count": 74,
   "metadata": {},
   "outputs": [],
   "source": [
    "class PositionalEncoding(nn.Module):\n",
    "\n",
    "    def __init__(self, d_model,seq_len, dropout):\n",
    "        super().__init__()\n",
    "        self.d_model = d_model\n",
    "        self.seq_len = seq_len\n",
    "        self.dropout = nn.Dropout(dropout)\n",
    "\n",
    "        pe=torch.zeros(seq_len,d_model)\n",
    "        position=torch.arange(0,seq_len,dtype=torch.float).unsqueeze(1)\n",
    "        div_term=torch.exp(torch.arange(0,d_model,2).float()*(-math.log(10000.0)/d_model))\n",
    "\n",
    "        pe[:,0::2]=torch.sin(position*div_term)\n",
    "        pe[:,1::2]=torch.cos(position*div_term)\n",
    "\n",
    "        pe=pe.unsqueeze(0)\n",
    "\n",
    "        self.register_buffer('pe',pe)\n",
    "\n",
    "    def forward(self,x):\n",
    "        x=x+(self.pe[:,:x.shape[1],:]).requires_grad_(False)\n",
    "        return self.dropout(x)"
   ]
  },
  {
   "cell_type": "code",
   "execution_count": 76,
   "metadata": {},
   "outputs": [],
   "source": [
    "class LayerNormalisation(nn.Module):\n",
    "    def __init__(self, eps:float =10**-6 , *args, **kwargs) -> None:\n",
    "        super().__init__()\n",
    "        self.eps=eps\n",
    "        self.alpha=nn.Parameter(torch.ones(1))\n",
    "        self.bias=nn.Parameter(torch.zeros(1))\n",
    "    def forward(self,x):\n",
    "        mean=x.mean(dim=-1,keepdim=True)\n",
    "        std=x.std(dim=-1,keepdim=True)\n",
    "        return self.alpha*(x-mean)/(std+self.eps) +self.bias"
   ]
  },
  {
   "cell_type": "code",
   "execution_count": 78,
   "metadata": {},
   "outputs": [],
   "source": [
    "class FeedForwardBlock(nn.Module):\n",
    "    def __init__(self,d_model:int,d_ff:int,dropout:float, *args, **kwargs) -> None:\n",
    "        super().__init__()\n",
    "        self.linear1=nn.Linear(d_model,d_ff)\n",
    "        self.dropout=nn.Dropout(dropout)\n",
    "        self.linear2=nn.Linear(d_ff,d_model)\n",
    "    def forward(self,x):\n",
    "        return self.linear2(self.dropout(torch.relu(self.linear1(x))))"
   ]
  },
  {
   "cell_type": "code",
   "execution_count": 80,
   "metadata": {},
   "outputs": [],
   "source": [
    "class MultiHeadAttention(nn.Module):\n",
    "    def __init__(self,d_model:int,h:int,dropout:float, *args, **kwargs) -> None:\n",
    "        super().__init__()\n",
    "        self.d_model=d_model\n",
    "        self.h=h\n",
    "        assert d_model%h==0 ,'dmodel is not divisible by h'\n",
    "        self.d_k=d_model//h\n",
    "        self.w_k=nn.Linear(d_model,d_model)\n",
    "        self.w_q=nn.Linear(d_model,d_model)\n",
    "        self.w_v=nn.Linear(d_model,d_model)\n",
    "        self.w_o=nn.Linear(d_model,d_model)\n",
    "        self.dropout=nn.Dropout(dropout)\n",
    "\n",
    "    @staticmethod\n",
    "    def attention(query,key,value,mask,dropout:nn.Dropout):\n",
    "        d_k=query.shape[-1]\n",
    "        attention_scores=(query@key.transpose(-2,-1))/math.sqrt(d_k)\n",
    "        if mask is not None:\n",
    "            attention_scores.masked_fill_(mask==0,-1e9)\n",
    "        attention_scores=attention_scores.softmax(dim=-1)\n",
    "        if dropout is not None:\n",
    "            attention_scores=dropout(attention_scores)\n",
    "        return (attention_scores@value),attention_scores\n",
    "\n",
    "    def forward(self,q,k,v,mask):\n",
    "        query=self.w_q(q)\n",
    "        key=self.w_k(k)\n",
    "        value=self.w_v(v)\n",
    "\n",
    "        query=query.view(query.shape[0],query.shape[1],self.h,self.d_k).transpose(1,2)\n",
    "        key=key.view(key.shape[0],key.shape[1],self.h,self.d_k).transpose(1,2)\n",
    "        value=value.view(value.shape[0],value.shape[1],self.h,self.d_k).transpose(1,2)\n",
    "\n",
    "        x,self.attention_scores=MultiHeadAttention.attention(query,key,value,mask,self.dropout)\n",
    "\n",
    "        x=x.transpose(1,2).contiguous().view(x.shape[0],-1,self.h,self.d_k)\n",
    "\n",
    "        return self.w_o(x)"
   ]
  },
  {
   "cell_type": "code",
   "execution_count": 85,
   "metadata": {},
   "outputs": [],
   "source": [
    "class ResidualConnection(nn.Module):\n",
    "    def __init__(self, dropout:float) -> None:\n",
    "        super().__init__()\n",
    "        self.dropout=nn.Dropout(dropout)\n",
    "        self.norm=LayerNormalisation()\n",
    "    def forward(self,x,sublayer):\n",
    "        return x+self.dropout(sublayer(self.norm(x)))"
   ]
  },
  {
   "cell_type": "code",
   "execution_count": 86,
   "metadata": {},
   "outputs": [],
   "source": [
    "class EncoderBlock(nn.Module):\n",
    "    def __init__(self,features:int,self_attention_block:MultiHeadAttention,feed_forward_block:FeedForwardBlock,dropout:float,*args, **kwargs) -> None:\n",
    "        super().__init__()\n",
    "        self.self_attention_block=self_attention_block\n",
    "        self.feed_forward_block=feed_forward_block\n",
    "        self.residual_connections=nn.ModuleList([ResidualConnection(features,dropout) for _ in range(2)])\n",
    "\n",
    "    def forward(self,x,src_mask):\n",
    "        x=self.residual_connections[0](x,lambda x:self.self_attention_block(x,x,x,src_mask))\n",
    "        x=self.residual_connections[1](self.feed_forward_block)\n",
    "        return x"
   ]
  },
  {
   "cell_type": "code",
   "execution_count": 87,
   "metadata": {},
   "outputs": [],
   "source": [
    "class Encoder(nn.Module):\n",
    "    def __init__(self,features:int,layers:nn.ModuleList, *args, **kwargs) -> None:\n",
    "        super().__init__()\n",
    "        self.layers=layers\n",
    "        self.norm=LayerNormalisation(features)\n",
    "\n",
    "    def forward(self,x,mask):\n",
    "        for layer in self.layers:\n",
    "            x=layer(x,mask)\n",
    "        return self.norm(x)"
   ]
  },
  {
   "cell_type": "code",
   "execution_count": 111,
   "metadata": {},
   "outputs": [],
   "source": [
    "class DecoderBlock(nn.Module):\n",
    "    def __init__(self,features:int,self_attention_block:MultiHeadAttention,cross_attention_block:MultiHeadAttention,feed_forward_block:FeedForwardBlock,dropout:float, *args, **kwargs) -> None:\n",
    "        super().__init__()\n",
    "        self.self_attention_block=self_attention_block\n",
    "        self.cross_attention_block=cross_attention_block\n",
    "        self.feed_forward_block=feed_forward_block\n",
    "        self.residual_connections=nn.ModuleList([ResidualConnection(features,dropout) for _ in range(3)])\n",
    "\n",
    "    def forawrd(self,x,encoder_output,srs_mask,tgt_mask):\n",
    "        x=self.residual_connections[0](x,lambda x :self.self_attention_block(x,x,x,tgt_mask))\n",
    "        x=self.residual_connections[1](x,lambda x :self.cross_attention_block(x,encoder_output,encoder_output,srs_mask))\n",
    "        x=self.residual_connections[2](x,self.feed_forward_block)\n",
    "        return x"
   ]
  },
  {
   "cell_type": "code",
   "execution_count": 112,
   "metadata": {},
   "outputs": [],
   "source": [
    "class Decoder(nn.Module):\n",
    "    def __init__(self,features:int,layers:nn.ModuleList, *args, **kwargs) -> None:\n",
    "        super().__init__()\n",
    "        self.layers=layers\n",
    "        self.norm=LayerNormalisation(features)\n",
    "\n",
    "    def forward(self,x,encoder_output,srs_mask,tgt_mask):\n",
    "        for layers in self.layers:\n",
    "            x=layers(x,encoder_output,srs_mask,tgt_mask)\n",
    "        return self.norm(x)"
   ]
  },
  {
   "cell_type": "code",
   "execution_count": 113,
   "metadata": {},
   "outputs": [],
   "source": [
    "class ProjectionLayer(nn.Module):\n",
    "    def __init__(self,d_model,vocab_size, *args, **kwargs) -> None:\n",
    "        super().__init__()\n",
    "        self.proj=nn.Linear(d_model,vocab_size)\n",
    "\n",
    "    def forward(self,x):\n",
    "        return self.proj(x)"
   ]
  },
  {
   "cell_type": "code",
   "execution_count": 114,
   "metadata": {},
   "outputs": [],
   "source": [
    "class Transformer(nn.Module):\n",
    "    def __init__(self,encoder:Encoder,decoder:Decoder,srs_emb=InputEmbeddings,trg_emb=InputEmbeddings,srs_pos=PositionalEncoding,trg_pos=PositionalEncoding,projection_layer=ProjectionLayer,*args, **kwargs) -> None:\n",
    "        super().__init__()\n",
    "        self.encoder=encoder\n",
    "        self.decoder=decoder\n",
    "        self.srs_emb=srs_emb\n",
    "        self.trg_emb=trg_emb\n",
    "        self.srs_pos=srs_pos\n",
    "        self.trg_pos=trg_pos\n",
    "        self.projection_layer=projection_layer\n",
    "    def encode(self,srs,srs_mask):\n",
    "        srs=self.srs_emb(srs)\n",
    "        srs=self.srs_pos(srs)\n",
    "        return self.encoder(srs,srs_mask)\n",
    "    def decode(self,encoder_output:torch.Tensor,srs_mask:torch.Tensor,tgt:torch.Tensor,tgt_mask:torch.Tensor):\n",
    "        tgt=self.trg_emb(tgt)\n",
    "        tgt=self.trg_pos(tgt)\n",
    "        return self.decoder(tgt,encoder_output,srs_mask,tgt_mask)\n",
    "    def project(self,x):\n",
    "        return self.projection_layer(x)"
   ]
  },
  {
   "cell_type": "code",
   "execution_count": null,
   "metadata": {},
   "outputs": [],
   "source": [
    "def build_transformer(srs_vocab_size:int,tgt_vocab_size:int,srs_seq_len:int,tgt_seq_len:int,d_model=512,N=6,h=8,dropout=0.1,d_ff=2048):\n",
    "    srs_emb=InputEmbeddings(d_model,srs_vocab_size)\n",
    "    tgt_emb=InputEmbeddings(d_model,tgt_vocab_size)\n",
    "\n",
    "    srs_pos=PositionalEncoding(d_model,srs_seq_len,dropout)\n",
    "    tgt_pos=PositionalEncoding(d_model,tgt_seq_len,dropout)\n",
    "\n",
    "    encoder_blocks=[]\n",
    "    for _ in range(N):\n",
    "        encoder_self_attention_block=MultiHeadAttention(d_model,h,dropout)\n",
    "        feed_forward_block=FeedForwardBlock(d_model,d_ff,dropout)\n",
    "        encoder_block=EncoderBlock(d_model,encoder_self_attention_block,feed_forward_block,dropout)\n",
    "        encoder_blocks.append(encoder_block)\n",
    "\n",
    "    decoder_blocks=[]\n",
    "    for _ in range(N):\n",
    "        decoder_self_attention_block=MultiHeadAttention(d_model,h,dropout)\n",
    "        decoder_cross_attention_block=MultiHeadAttention(d_model,h,dropout)\n",
    "        feed_forward_block=FeedForwardBlock(d_model,d_ff,dropout)\n",
    "        decoder_block=DecoderBlock(d_model,decoder_self_attention_block,decoder_cross_attention_block,feed_forward_block,dropout)\n",
    "        decoder_blocks.append(decoder_block)\n",
    "\n",
    "    encoder=Encoder(d_model,nn.ModuleList(encoder_blocks))\n",
    "    decoder=Decoder(d_model,nn.ModuleList(decoder_blocks))\n",
    "\n",
    "    projection_layer=ProjectionLayer(d_model,tgt_vocab_size)\n",
    "\n",
    "    transformer=Transformer(encoder,decoder,srs_emb,tgt_emb,srs_pos,tgt_pos,projection_layer)\n",
    "\n",
    "    for p in transformer.parameters():\n",
    "        if p.dim()>1:\n",
    "            nn.init.xavier_uniform_(p)\n",
    "    \n",
    "    return transformer\n",
    "\n"
   ]
  }
 ],
 "metadata": {
  "kernelspec": {
   "display_name": "Python 3",
   "language": "python",
   "name": "python3"
  },
  "language_info": {
   "codemirror_mode": {
    "name": "ipython",
    "version": 3
   },
   "file_extension": ".py",
   "mimetype": "text/x-python",
   "name": "python",
   "nbconvert_exporter": "python",
   "pygments_lexer": "ipython3",
   "version": "3.9.6"
  }
 },
 "nbformat": 4,
 "nbformat_minor": 2
}
